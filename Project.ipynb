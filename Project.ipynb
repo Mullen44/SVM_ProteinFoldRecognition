{
 "cells": [
  {
   "cell_type": "code",
   "execution_count": 1,
   "metadata": {
    "scrolled": true
   },
   "outputs": [
    {
     "name": "stdout",
     "output_type": "stream",
     "text": [
      "Requirement already satisfied: Bio in /Users/andrewmullen/opt/anaconda3/lib/python3.7/site-packages (0.4.1)\r\n",
      "Requirement already satisfied: biopython>=1.78 in /Users/andrewmullen/opt/anaconda3/lib/python3.7/site-packages (from Bio) (1.78)\r\n",
      "Requirement already satisfied: requests in /Users/andrewmullen/opt/anaconda3/lib/python3.7/site-packages (from Bio) (2.22.0)\r\n",
      "Requirement already satisfied: numpy<1.20 in /Users/andrewmullen/opt/anaconda3/lib/python3.7/site-packages (from Bio) (1.18.1)\r\n",
      "Requirement already satisfied: idna<2.9,>=2.5 in /Users/andrewmullen/opt/anaconda3/lib/python3.7/site-packages (from requests->Bio) (2.8)\r\n",
      "Requirement already satisfied: certifi>=2017.4.17 in /Users/andrewmullen/opt/anaconda3/lib/python3.7/site-packages (from requests->Bio) (2019.11.28)\r\n",
      "Requirement already satisfied: chardet<3.1.0,>=3.0.2 in /Users/andrewmullen/opt/anaconda3/lib/python3.7/site-packages (from requests->Bio) (3.0.4)\r\n",
      "Requirement already satisfied: urllib3!=1.25.0,!=1.25.1,<1.26,>=1.21.1 in /Users/andrewmullen/opt/anaconda3/lib/python3.7/site-packages (from requests->Bio) (1.25.8)\r\n"
     ]
    }
   ],
   "source": [
    "# BME 808 Project\n",
    "# Protein fold classification using SVM\n",
    "# Andrew Mullen & Otylia Nowicka\n",
    "\n",
    "import numpy as np\n",
    "from sklearn import svm\n",
    "!pip install Bio\n",
    "from Bio import SeqIO\n",
    "from sklearn import metrics"
   ]
  },
  {
   "cell_type": "markdown",
   "metadata": {},
   "source": [
    "# Read In Data"
   ]
  },
  {
   "cell_type": "code",
   "execution_count": 2,
   "metadata": {},
   "outputs": [],
   "source": [
    "# Read sequence data\n",
    "seqFile = 'sequences.txt'\n",
    "\n",
    "sequenceDict = dict()\n",
    "\n",
    "fasta_sequences = SeqIO.parse(open(seqFile),'fasta')\n",
    "\n",
    "for fasta in fasta_sequences:\n",
    "        name, sequence = fasta.id, str(fasta.seq)\n",
    "        sequenceDict[name] = sequence.upper()"
   ]
  },
  {
   "cell_type": "code",
   "execution_count": 3,
   "metadata": {},
   "outputs": [],
   "source": [
    "# Read Label Data\n",
    "file = open('scop-cla-latest.txt')\n",
    "lines = file.read()\n",
    "lines = lines.split('\\n')\n",
    "labels = dict()\n",
    "for i in range(6,len(lines)-1) :\n",
    "    temp = lines[i].split()\n",
    "    key = temp[0]\n",
    "    temp = temp[10]\n",
    "    value = int(temp[temp.find('CL=100000')+9])\n",
    "    labels[key] = value"
   ]
  },
  {
   "cell_type": "markdown",
   "metadata": {},
   "source": [
    "# Feature Extraction"
   ]
  },
  {
   "cell_type": "code",
   "execution_count": 4,
   "metadata": {},
   "outputs": [],
   "source": [
    "def featureExtraction(seq) :\n",
    "    #Declare output varaible\n",
    "    output = np.zeros((49))\n",
    "    \n",
    "    #Amino Acid Frequency\n",
    "    output[0] = seq.count('A')#Alanine\n",
    "    output[1] = seq.count('B')#Asparagine\n",
    "    output[2] = seq.count('C')#Cysteine\n",
    "    output[3] = seq.count('D')#Aspartic Acid\n",
    "    output[4] = seq.count('E')#Glutamic Acid\n",
    "    output[5] = seq.count('F')#Phenylalanine\n",
    "    output[6] = seq.count('G')#Glycine\n",
    "    output[7] = seq.count('H')#Histidine\n",
    "    output[8] = seq.count('I')#Isoleucine\n",
    "    output[9] = seq.count('K')#Lysine\n",
    "    output[10] = seq.count('L')#Leucine\n",
    "    output[11] = seq.count('M')#Methionine\n",
    "    output[12] = seq.count('N')#Asparginine\n",
    "    output[13] = seq.count('O')#Pyrrolysine\n",
    "    output[14] = seq.count('P')#Proline\n",
    "    output[15] = seq.count('Q')#Glutamine\n",
    "    output[16] = seq.count('R')#Arginine\n",
    "    output[17] = seq.count('S')#Serine\n",
    "    output[18] = seq.count('T')#Threonine\n",
    "    output[19] = seq.count('U')#Selenocysteine\n",
    "    output[20] = seq.count('V')#Valine\n",
    "    output[21] = seq.count('W')#Tryptophan\n",
    "    output[22] = seq.count('X')#Any amino acid\n",
    "    output[23] = seq.count('Y')#Tyrosine\n",
    "    output[24] = seq.count('Z')#Glutamic Acid or Glutamine\n",
    "    \n",
    "    #Physiochemical Property Grouping - 3 groups each\n",
    "        #From https://www.hindawi.com/journals/bmri/2016/6802832/\n",
    "        \n",
    "    #Hydrophobicity\n",
    "    output[25] = sum(output[[3,4,9,12,15,16]])#Group1\n",
    "    output[26] = sum(output[[0,6,7,14,17,18,23]])#Group2\n",
    "    output[27] = sum(output[[2,5,8,10,11,20,21]])#Group3\n",
    "    \n",
    "    #Van der Waals Volume\n",
    "    output[28] = sum(output[[0,2,3,6,14,17,18]])#Group1\n",
    "    output[29] = sum(output[[4,8,10,12,15,20]])#Group2\n",
    "    output[30] = sum(output[[5,7,9,11,16,21,23]])#Group3\n",
    "    \n",
    "    #Polarity\n",
    "    output[31] = sum(output[[2,5,8,10,11,20,21]])#Group1\n",
    "    output[32] = sum(output[[0,6,14,17,18]])#Group2\n",
    "    output[33] = sum(output[[5,7,9,11,16,21,23]])#Group3\n",
    "    \n",
    "    #Polarizability\n",
    "    output[34] = sum(output[[0,3,6,17,18]])#Group1\n",
    "    output[35] = sum(output[[2,4,8,10,12,14,15,20]])#Group2\n",
    "    output[36] = sum(output[[5,7,9,11,16,21,23]])#Group3\n",
    "    \n",
    "    #Charge\n",
    "    output[37] = sum(output[[9,16]])#Group1\n",
    "    output[38] = sum(output[[0,2,5,6,7,8,10,11,12,14,15,17,18,20,21,23]])#Group2\n",
    "    output[39] = sum(output[[3,4]])#Group3\n",
    "    \n",
    "    #Surface Tension\n",
    "    output[40] = sum(output[[0,3,6,7,12,15,16]])#Group1\n",
    "    output[41] = sum(output[[2,4,9,17,18]])#Group2\n",
    "    output[42] = sum(output[[5,8,10,11,14,20,21,23]])#Group3\n",
    "    \n",
    "    #Secondary Structure\n",
    "    output[43] = sum(output[[0,4,7,9,10,11,15,16]])#Group1\n",
    "    output[44] = sum(output[[2,5,8,18,29,21,23]])#Group2\n",
    "    output[45] = sum(output[[3,6,12,14,17]])#Group3\n",
    "    \n",
    "    #Solvent Accesibility\n",
    "    output[46] = sum(output[[0,2,5,6,8,10,20,21]])#Group1\n",
    "    output[47] = sum(output[[3,4,9,12,15,16]])#Group2\n",
    "    output[48] = sum(output[[7,11,14,17,18,23]])#Group3\n",
    "    \n",
    "    \n",
    "    return output/len(seq)\n",
    "\n"
   ]
  },
  {
   "cell_type": "code",
   "execution_count": 5,
   "metadata": {},
   "outputs": [],
   "source": [
    "#Initialize Feature Array\n",
    "featureArray = np.zeros((len(sequenceDict), 50))\n",
    "#Initialize Counter\n",
    "count = 0\n",
    "\n",
    "\n",
    "for key, value in sequenceDict.items() :\n",
    "    #Extract Features\n",
    "    features = featureExtraction(value)\n",
    "    #Place in array\n",
    "    featureArray[count,0:len(features)] = features\n",
    "    #Assign Label to last value\n",
    "    featureArray[count,len(features)] = labels[key]\n",
    "    count += 1\n",
    "    \n",
    "# Save Feature Array\n",
    "np.save('features.npy', featureArray)"
   ]
  },
  {
   "cell_type": "markdown",
   "metadata": {},
   "source": [
    "# SVM Model Training"
   ]
  },
  {
   "cell_type": "code",
   "execution_count": 15,
   "metadata": {},
   "outputs": [
    {
     "name": "stdout",
     "output_type": "stream",
     "text": [
      "Score: 0.5158836689038031\n",
      "[[801  28 273 264  16]\n",
      " [ 57 838 225 297  10]\n",
      " [134 138 874 396   0]\n",
      " [306 405 539 747  42]\n",
      " [ 41  34   6  35 199]]\n"
     ]
    }
   ],
   "source": [
    "from sklearn.preprocessing import StandardScaler\n",
    "from sklearn.pipeline import make_pipeline\n",
    "#Load in data\n",
    "data = np.load('features.npy')\n",
    "xTrain = data[0:26820,0:49]\n",
    "yTrain = data[0:26820,49]\n",
    "xTest = data[26820:33525,0:49]\n",
    "yTest = data[26820:33525,49]\n",
    "\n",
    "\n",
    "#Model\n",
    "model = svm.SVC(kernel='linear')#poly', degree=5, verbose=2)\n",
    "model.fit(xTrain, yTrain)\n",
    "\n",
    "#Model Score\n",
    "print('Score:', model.score(xTest, yTest))\n",
    "\n",
    "#Make Predictions\n",
    "yPred = model.predict(xTest)\n",
    "\n",
    "#Print the confusion matrix\n",
    "print(metrics.confusion_matrix(yTest, yPred))"
   ]
  },
  {
   "cell_type": "code",
   "execution_count": 7,
   "metadata": {},
   "outputs": [],
   "source": [
    "import pickle\n",
    "modelPath = 'SVM_Model.pkl'\n",
    "# Save model\n",
    "pickle.dump(model, open(modelPath, 'wb'))"
   ]
  },
  {
   "cell_type": "code",
   "execution_count": 8,
   "metadata": {},
   "outputs": [
    {
     "name": "stdout",
     "output_type": "stream",
     "text": [
      "Predicted  0.0  1.0   2.0  3.0  4.0\n",
      "Actual                             \n",
      "0.0        908   33   205  216   20\n",
      "1.0         58  855   223  280   11\n",
      "2.0         80  111  1088  263    0\n",
      "3.0        235  368   630  758   48\n",
      "4.0         42   21     3   31  218\n",
      "\n",
      "Predicted   0.0   1.0   2.0   3.0  4.0   All\n",
      "Actual                                      \n",
      "0.0         908    33   205   216   20  1382\n",
      "1.0          58   855   223   280   11  1427\n",
      "2.0          80   111  1088   263    0  1542\n",
      "3.0         235   368   630   758   48  2039\n",
      "4.0          42    21     3    31  218   315\n",
      "All        1323  1388  2149  1548  297  6705\n",
      "\n",
      "Predicted       0.0       1.0       2.0       3.0       4.0\n",
      "Actual                                                     \n",
      "0.0        0.657019  0.023125  0.132944  0.105934  0.063492\n",
      "1.0        0.041968  0.599159  0.144617  0.137322  0.034921\n",
      "2.0        0.057887  0.077786  0.705577  0.128985  0.000000\n",
      "3.0        0.170043  0.257884  0.408560  0.371751  0.152381\n",
      "4.0        0.030391  0.014716  0.001946  0.015204  0.692063\n",
      "\n",
      "\n",
      "              precision    recall  f1-score   support\n",
      "\n",
      "         0.0      0.686     0.657     0.671      1382\n",
      "         1.0      0.616     0.599     0.607      1427\n",
      "         2.0      0.506     0.706     0.590      1542\n",
      "         3.0      0.490     0.372     0.423      2039\n",
      "         4.0      0.734     0.692     0.712       315\n",
      "\n",
      "    accuracy                          0.571      6705\n",
      "   macro avg      0.606     0.605     0.601      6705\n",
      "weighted avg      0.572     0.571     0.565      6705\n",
      "\n"
     ]
    },
    {
     "data": {
      "image/png": "[encoded data removed]",
      "text/plain": [
       "<Figure size 288x288 with 2 Axes>"
      ]
     },
     "metadata": {
      "needs_background": "light"
     },
     "output_type": "display_data"
    }
   ],
   "source": [
    "import pandas as pd\n",
    "import matplotlib.pyplot as plt\n",
    "act_y = pd.Series(yTest, name = 'Actual')\n",
    "pred_y = pd.Series(yPred, name = 'Predicted')\n",
    "df_conf = pd.crosstab(act_y, pred_y)\n",
    "print(df_conf)\n",
    "print()\n",
    "df_conf1 = pd.crosstab(act_y, pred_y, rownames=['Actual'], colnames=['Predicted'], margins=True)\n",
    "print(df_conf1)\n",
    "print()\n",
    "# if you need to normalize it\n",
    "df_conf_norm = df_conf / df_conf.sum(axis=1)\n",
    "print(df_conf_norm)\n",
    "print()\n",
    "\n",
    "# now for plotting\n",
    "def plot_confusion_matrix(df_conf, title='Confusion matrix', cmap=plt.cm.gray_r):\n",
    "    plt.matshow(df_conf, cmap=cmap) # imshow\n",
    "    #plt.title(title)\n",
    "    plt.colorbar()\n",
    "\n",
    "    tick_marks = np.arange(len(df_conf.columns))\n",
    "    plt.xticks(tick_marks, df_conf.columns, rotation=45)\n",
    "    plt.yticks(tick_marks, df_conf.index)\n",
    "    \n",
    "    #plt.tight_layout()\n",
    "    plt.ylabel(df_conf.index.name)\n",
    "    plt.xlabel(df_conf.columns.name)\n",
    "\n",
    "plot_confusion_matrix(df_conf)\n",
    "\n",
    "print()\n",
    "print(metrics.classification_report(yTest, yPred, digits=3))"
   ]
  },
  {
   "cell_type": "markdown",
   "metadata": {},
   "source": [
    "# Trouble Shooting"
   ]
  },
  {
   "cell_type": "code",
   "execution_count": 9,
   "metadata": {},
   "outputs": [],
   "source": [
    "AACount = dict()\n",
    "for key, value in sequenceDict.items() :\n",
    "    for letter in value :\n",
    "        if letter in AACount.keys() :\n",
    "            AACount[letter] += 1\n",
    "        else :\n",
    "            AACount[letter] = 1"
   ]
  },
  {
   "cell_type": "code",
   "execution_count": 10,
   "metadata": {},
   "outputs": [
    {
     "data": {
      "text/plain": [
       "(33525, 50)"
      ]
     },
     "execution_count": 10,
     "metadata": {},
     "output_type": "execute_result"
    }
   ],
   "source": [
    "np.shape(featureArray)"
   ]
  },
  {
   "cell_type": "code",
   "execution_count": 18,
   "metadata": {},
   "outputs": [
    {
     "data": {
      "text/plain": [
       "11.331677741532985"
      ]
     },
     "execution_count": 18,
     "metadata": {},
     "output_type": "execute_result"
    }
   ],
   "source": [
    "np.max(model.coef_)"
   ]
  },
  {
   "cell_type": "code",
   "execution_count": null,
   "metadata": {},
   "outputs": [],
   "source": []
  }
 ],
 "metadata": {
  "kernelspec": {
   "display_name": "Python 3",
   "language": "python",
   "name": "python3"
  },
  "language_info": {
   "codemirror_mode": {
    "name": "ipython",
    "version": 3
   },
   "file_extension": ".py",
   "mimetype": "text/x-python",
   "name": "python",
   "nbconvert_exporter": "python",
   "pygments_lexer": "ipython3",
   "version": "3.7.6"
  }
 },
 "nbformat": 4,
 "nbformat_minor": 4
}
